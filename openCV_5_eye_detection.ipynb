{
 "cells": [
  {
   "cell_type": "code",
   "execution_count": null,
   "metadata": {},
   "outputs": [],
   "source": [
    "import cv2 \n",
    "import numpy as np "
   ]
  },
  {
   "cell_type": "code",
   "execution_count": null,
   "metadata": {},
   "outputs": [],
   "source": [
    "def get_frame(cap, scaling_factor): \n",
    "    # Capture the frame from video capture object \n",
    "    ret, frame = cap.read() \n",
    " \n",
    "    # Resize the input frame \n",
    "    frame = cv2.resize(frame, None, fx=scaling_factor, \n",
    "            fy=scaling_factor, interpolation=cv2.INTER_AREA) \n",
    " \n",
    "    return frame"
   ]
  },
  {
   "cell_type": "code",
   "execution_count": null,
   "metadata": {},
   "outputs": [],
   "source": [
    "cap = cv2.VideoCapture(0) \n",
    "scaling_factor = 0.5 \n",
    "\n",
    "# Define 'blue' range in HSV colorspace \n",
    "lower = np.array([120,180,180]) \n",
    "upper = np.array([180,255,255]) \n",
    "\n",
    "while True: \n",
    "    frame = get_frame(cap, scaling_factor) \n",
    "\n",
    "    # Convert the HSV colorspace \n",
    "    hsv_frame = cv2.cvtColor(frame, cv2.COLOR_BGR2HSV) \n",
    "\n",
    "    # Threshold the HSV image to get only blue color \n",
    "    mask = cv2.inRange(hsv_frame, lower, upper) \n",
    "\n",
    "    # Bitwise-AND mask and original image \n",
    "    res = cv2.bitwise_and(frame, frame, mask=mask) \n",
    "#     res = cv2.medianBlur(res, ksize=5) \n",
    "\n",
    "    cv2.imshow('Original image', frame) \n",
    "    cv2.imshow('Color Detector', res) \n",
    "\n",
    "    # Check if the user pressed ESC key \n",
    "    c = cv2.waitKey(1) \n",
    "    if c == 27: \n",
    "        break \n",
    "cap.release()\n",
    "cv2.destroyAllWindows() "
   ]
  },
  {
   "cell_type": "markdown",
   "metadata": {},
   "source": [
    "## Motion Tracking"
   ]
  },
  {
   "cell_type": "code",
   "execution_count": 19,
   "metadata": {},
   "outputs": [],
   "source": [
    "def frame_diff(prev_frame, cur_frame, next_frame): \n",
    "    # Absolute difference between current frame and next frame \n",
    "    diff_frames1 = cv2.absdiff(next_frame, cur_frame) \n",
    " \n",
    "    # Absolute difference between current frame and \n",
    "     # previous frame \n",
    "    diff_frames2 = cv2.absdiff(cur_frame, prev_frame) \n",
    " \n",
    "    # Return the result of bitwise 'AND' between the \n",
    "     # above two resultant images \n",
    "    return cv2.bitwise_and(diff_frames1, diff_frames2) \n",
    " \n",
    "# Capture the frame from webcam \n",
    "def get_frame(cap, scaling_factor): \n",
    "    # Capture the frame \n",
    "    ret, frame = cap.read() \n",
    " \n",
    "    # Resize the image \n",
    "    frame = cv2.resize(frame, None, fx=scaling_factor, \n",
    "            fy=scaling_factor, interpolation=cv2.INTER_AREA) \n",
    " \n",
    "    return frame"
   ]
  },
  {
   "cell_type": "code",
   "execution_count": 20,
   "metadata": {},
   "outputs": [],
   "source": [
    "cap = cv2.VideoCapture(0)   \n",
    "scaling_factor = 0.5\n",
    "\n",
    "cur_frame, prev_frame, next_frame = None, None, None\n",
    "while True:\n",
    "    frame = get_frame(cap, scaling_factor)\n",
    "\n",
    "#     frame = cap.read()\n",
    "    prev_frame = cur_frame \n",
    "    cur_frame = next_frame\n",
    "#     Convert frame to grayscale image \n",
    "    next_frame = cv2.cvtColor(frame, cv2.COLOR_BGR2GRAY)\n",
    "\n",
    "    if prev_frame is not None:\n",
    "        cv2.imshow(\"Object Movement\", frame_diff(prev_frame, cur_frame, next_frame)) \n",
    "\n",
    "    key = cv2.waitKey() \n",
    "    if key == 27: \n",
    "        break \n",
    "        \n",
    "cap.release()\n",
    "cv2.destroyAllWindows() "
   ]
  },
  {
   "cell_type": "markdown",
   "metadata": {},
   "source": [
    "## Eye Detection"
   ]
  },
  {
   "cell_type": "code",
   "execution_count": null,
   "metadata": {},
   "outputs": [],
   "source": [
    "face_cascade = cv2.CascadeClassifier('C:\\\\OpenCV\\\\opencv\\\\sources\\\\data\\\\haarcascades\\\\haarcascade_frontalface_alt.xml') \n",
    "eye_cascade = cv2.CascadeClassifier('C:\\\\OpenCV\\\\opencv\\\\sources\\\\data\\\\haarcascades\\\\haarcascade_eye_tree_eyeglasses.xml') \n",
    "if face_cascade.empty(): \n",
    "  raise IOError('Unable to load the face cascade classifier xml file') \n",
    " \n",
    "if eye_cascade.empty(): \n",
    "  raise IOError('Unable to load the eye cascade classifier xml file')\n",
    " \n",
    "cap = cv2.VideoCapture(0) \n",
    "ds_factor = 0.5 \n",
    " \n",
    "while True: \n",
    "    ret, frame = cap.read() \n",
    "#     frame = cv2.resize(frame, None, fx=ds_factor, fy=ds_factor, interpolation=cv2.INTER_AREA) \n",
    "    gray = cv2.cvtColor(frame, cv2.COLOR_BGR2GRAY) \n",
    " \n",
    "    faces = face_cascade.detectMultiScale(gray, scaleFactor=1.3, minNeighbors=1) \n",
    "    \n",
    "    for face in faces:\n",
    "    \n",
    "        x,y,w,h=face\n",
    "        cv2.rectangle(frame,(x,y),(x+w,y+h),(0,255,0),5)\n",
    "    for (x,y,w,h) in faces: \n",
    "        roi_gray = gray[y:y+h, x:x+w] \n",
    "        roi_color = frame[y:y+h, x:x+w] \n",
    "        eyes = eye_cascade.detectMultiScale(roi_gray) \n",
    "        for (x_eye,y_eye,w_eye,h_eye) in eyes: \n",
    "            center = (int(x_eye + 0.5*w_eye), int(y_eye + 0.5*h_eye)) \n",
    "            radius = int(0.3 * (w_eye + h_eye)) \n",
    "            color = (0, 255, 0) \n",
    "            thickness = 3 \n",
    "            cv2.circle(roi_color, center, radius, color, thickness) \n",
    " \n",
    "    cv2.imshow('Eye Detector', frame) \n",
    " \n",
    "    c = cv2.waitKey(1) \n",
    "    if c == 27: \n",
    "        break \n",
    " \n",
    "cap.release() \n",
    "cv2.destroyAllWindows() "
   ]
  },
  {
   "cell_type": "markdown",
   "metadata": {},
   "source": [
    "## Detect Nose"
   ]
  },
  {
   "cell_type": "code",
   "execution_count": 18,
   "metadata": {},
   "outputs": [],
   "source": [
    "nose_cascade = cv2.CascadeClassifier('C:\\\\OpenCV\\\\opencv\\\\sources\\\\data\\\\haarcascades\\\\haarcascade_mcs_nose.xml') \n",
    " \n",
    "if nose_cascade.empty(): \n",
    "  raise IOError('Unable to load the nose cascade classifier xml file') \n",
    " \n",
    "cap = cv2.VideoCapture(0) \n",
    "ds_factor = 0.5 \n",
    " \n",
    "while True: \n",
    "    ret, frame = cap.read() \n",
    "#     frame = cv2.resize(frame, None, fx=ds_factor, fy=ds_factor, interpolation=cv2.INTER_AREA) \n",
    "    gray = cv2.cvtColor(frame, cv2.COLOR_BGR2GRAY) \n",
    " \n",
    "    nose_rects = nose_cascade.detectMultiScale(gray, 1.3, 5) \n",
    "    if len(nose_rects) > 0:\n",
    "        print(\"Nose Detected!\")\n",
    "    for (x,y,w,h) in nose_rects: \n",
    "        cv2.rectangle(frame, (x,y-5), (x+w+5,y+h-3), (0,255,0), 2) \n",
    "        break \n",
    " \n",
    "    cv2.imshow('Nose Detector', frame) \n",
    "    c = cv2.waitKey(1) \n",
    "    if c == 27: \n",
    "        break \n",
    " \n",
    "cap.release() \n",
    "cv2.destroyAllWindows()"
   ]
  },
  {
   "cell_type": "code",
   "execution_count": null,
   "metadata": {},
   "outputs": [],
   "source": []
  }
 ],
 "metadata": {
  "kernelspec": {
   "display_name": "Python 3",
   "language": "python",
   "name": "python3"
  },
  "language_info": {
   "codemirror_mode": {
    "name": "ipython",
    "version": 3
   },
   "file_extension": ".py",
   "mimetype": "text/x-python",
   "name": "python",
   "nbconvert_exporter": "python",
   "pygments_lexer": "ipython3",
   "version": "3.7.0"
  }
 },
 "nbformat": 4,
 "nbformat_minor": 2
}
