{
 "cells": [
  {
   "cell_type": "code",
   "execution_count": 2,
   "metadata": {},
   "outputs": [
    {
     "data": {
      "text/plain": [
       "True"
      ]
     },
     "execution_count": 2,
     "metadata": {},
     "output_type": "execute_result"
    }
   ],
   "source": [
    "import cv2 \n",
    "import numpy as np \n",
    "\n",
    "def print_howto(): \n",
    "    print(\"\"\"\n",
    "        Change cartoonizing mode of image:\n",
    "            1. Cartoonize without Color - press 's'\n",
    "            2. Cartoonize with Color - press 'c'\n",
    "    \"\"\")\n",
    "def cartoonize_image(img, ksize=5, sketch_mode=False):\n",
    "    num_repetitions, sigma_color, sigma_space, ds_factor = 10, 5, 7, 4\n",
    "    # Convert image to grayscale \n",
    "    img_gray = cv2.cvtColor(img, cv2.COLOR_BGR2GRAY) \n",
    " \n",
    "    # Apply median filter to the grayscale image \n",
    "    img_gray = cv2.medianBlur(img_gray, 7) \n",
    " \n",
    "    # Detect edges in the image and threshold it \n",
    "    edges = cv2.Laplacian(img_gray, cv2.CV_8U, ksize=ksize) \n",
    "    ret, mask = cv2.threshold(edges, 100, 255, cv2.THRESH_BINARY_INV) \n",
    " \n",
    "    # 'mask' is the sketch of the image \n",
    "    if sketch_mode: \n",
    "        return cv2.cvtColor(mask, cv2.COLOR_GRAY2BGR) \n",
    " \n",
    "    # Resize the image to a smaller size for faster computation \n",
    "    img_small = cv2.resize(img, None, fx=1.0/ds_factor, fy=1.0/ds_factor, interpolation=cv2.INTER_AREA)\n",
    " \n",
    "    # Apply bilateral filter the image multiple times \n",
    "    for i in range(num_repetitions): \n",
    "        img_small = cv2.bilateralFilter(img_small, ksize, sigma_color, sigma_space) \n",
    " \n",
    "    img_output = cv2.resize(img_small, None, fx=ds_factor, fy=ds_factor, interpolation=cv2.INTER_LINEAR) \n",
    " \n",
    "    dst = np.zeros(img_gray.shape) \n",
    " \n",
    "    # Add the thick boundary lines to the image using 'AND' operator \n",
    "    dst = cv2.bitwise_and(img_output, img_output, mask=mask) \n",
    "    return dst \n",
    "\n",
    "img = cv2.imread('C:\\\\Users\\\\Mohit\\\\Desktop\\\\DesktopMoved\\\\dp.jpg')\n",
    "output = cartoonize_image(img, ksize=5, sketch_mode=False)\n",
    "cv2.imwrite('C:\\\\Users\\\\Mohit\\\\Desktop\\\\op.jpeg',output)"
   ]
  },
  {
   "cell_type": "code",
   "execution_count": null,
   "metadata": {},
   "outputs": [],
   "source": []
  }
 ],
 "metadata": {
  "kernelspec": {
   "display_name": "Python 3",
   "language": "python",
   "name": "python3"
  },
  "language_info": {
   "codemirror_mode": {
    "name": "ipython",
    "version": 3
   },
   "file_extension": ".py",
   "mimetype": "text/x-python",
   "name": "python",
   "nbconvert_exporter": "python",
   "pygments_lexer": "ipython3",
   "version": "3.7.3"
  }
 },
 "nbformat": 4,
 "nbformat_minor": 2
}
